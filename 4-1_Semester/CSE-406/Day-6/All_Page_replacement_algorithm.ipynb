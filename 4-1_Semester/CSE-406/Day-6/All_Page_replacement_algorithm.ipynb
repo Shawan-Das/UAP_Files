{
  "nbformat": 4,
  "nbformat_minor": 0,
  "metadata": {
    "colab": {
      "name": "All Page replacement algorithm.ipynb",
      "provenance": [],
      "collapsed_sections": [
        "_19x-X6U188p",
        "92qLw4Ha2ouA",
        "FXeDmJuD73z4",
        "uMWeqBQh_TGL"
      ]
    },
    "kernelspec": {
      "name": "python3",
      "display_name": "Python 3"
    },
    "language_info": {
      "name": "python"
    }
  },
  "cells": [
    {
      "cell_type": "markdown",
      "source": [
        "### First in First Out(FIFO)"
      ],
      "metadata": {
        "id": "_19x-X6U188p"
      }
    },
    {
      "cell_type": "code",
      "execution_count": null,
      "metadata": {
        "colab": {
          "base_uri": "https://localhost:8080/"
        },
        "id": "YZFWxWIV13WH",
        "outputId": "2a979f25-bebe-49f4-f299-fd5137f927a4"
      },
      "outputs": [
        {
          "output_type": "stream",
          "name": "stdout",
          "text": [
            "Enter the value for queue: 7, 0, 1, 2, 0, 3, 0, 4, 2, 3, 0, 3, 2, 3\n",
            "Number of page frame: 4\n",
            "MISS:  [7, 0]\n",
            "MISS:  [7, 0, 1]\n",
            "MISS:  [7, 0, 1, 2]\n",
            "HIT:  [7, 0, 1, 2]\n",
            "MISS:  [0, 1, 2, 3]\n",
            "HIT:  [0, 1, 2, 3]\n",
            "MISS:  [1, 2, 3, 4]\n",
            "HIT:  [1, 2, 3, 4]\n",
            "HIT:  [1, 2, 3, 4]\n",
            "MISS:  [2, 3, 4, 0]\n",
            "HIT:  [2, 3, 4, 0]\n",
            "HIT:  [2, 3, 4, 0]\n",
            "HIT:  [2, 3, 4, 0]\n",
            "total page fault:  7\n"
          ]
        }
      ],
      "source": [
        "data=list(map(int, input(\"Enter the value for queue: \").split(\", \")))  # page values\n",
        "\n",
        "n = int(input(\"Number of page frame: \"))   # page frane size\n",
        "\n",
        "# first input will always be missed\n",
        "x=data[0]\n",
        "page_frame=[x] # insert first requested page in page frame list\n",
        "\n",
        "page_fault = 1  # as first value will be miss so page fault will be at 1\n",
        "data.pop(0) # delete first requested page from data\n",
        "\n",
        "for value in data:\n",
        "  if value not in page_frame:   # page not found, \"MISS\". \n",
        "    if len(page_frame)>=n:   # page frame is full. new requested value will replace a data from page frame\n",
        "      page_frame.pop(0)\n",
        "      page_frame.append(value)\n",
        "      page_fault +=1\n",
        "    else:                   # page frame if not full, just insert new requested data\n",
        "      page_frame.append(value)\n",
        "      page_fault +=1\n",
        "    print(\"MISS: \",page_frame)\n",
        "  else:\n",
        "    print(\"HIT: \",page_frame)\n",
        "\n",
        "print(\"total page fault: \", page_fault)\n"
      ]
    },
    {
      "cell_type": "markdown",
      "source": [
        "### Optimal page replacement"
      ],
      "metadata": {
        "id": "92qLw4Ha2ouA"
      }
    },
    {
      "cell_type": "code",
      "source": [
        "data=list(map(int, input(\"Enter the value for queue: \").split(\", \")))  # page values\n",
        "\n",
        "n = int(input(\"Number of page frame: \"))   # page frane size\n",
        "\n",
        "x=data[0]\n",
        "page_frame=[x] # insert first requested page in page frame list\n",
        "data.pop(0)\n",
        "page_fault = 1  # initialy 0\n",
        "\n",
        "\n",
        "# first full fill the page frame and delete visited data + count page fault\n",
        "while(len(page_frame)<n):\n",
        "  if data[0] not in page_frame:\n",
        "    page_frame.append(data[0])\n",
        "    page_fault += 1\n",
        "    data.pop(0)\n",
        "    print(\"MISS: \",page_frame)\n",
        "  else:\n",
        "    data.pop(0)\n",
        "    print(\"HIT: \",page_frame)\n",
        "\n",
        "\n",
        "# implement Operational page replacement algo for remaining data\n",
        "\n",
        "while (len(data)>0):   # list is not empty\n",
        "  if(data[0] not in page_frame):\n",
        "    page_fault += 1\n",
        "    temp_list= [data.index(i) if i in data else 0 for i in page_frame]\n",
        "    if 0 in temp_list:\n",
        "      page_frame.pop(temp_list.index(0))\n",
        "    else:\n",
        "      page_frame.pop(temp_list.index(max(temp_list)))\n",
        "    page_frame.append(data[0])\n",
        "    data.pop(0)\n",
        "    print(\"MISS: \",page_frame)\n",
        "  else:\n",
        "    data.pop(0)\n",
        "    print(\"HIT: \",page_frame)\n",
        "print(\"total page fault: \", page_fault)"
      ],
      "metadata": {
        "colab": {
          "base_uri": "https://localhost:8080/"
        },
        "id": "U-wKRDh62pkt",
        "outputId": "2885a673-d0e7-4507-9d63-24acabe6b68d"
      },
      "execution_count": null,
      "outputs": [
        {
          "output_type": "stream",
          "name": "stdout",
          "text": [
            "Enter the value for queue: 7, 0, 1, 2, 0, 3, 0, 4, 2, 3, 0, 3, 2, 3\n",
            "Number of page frame: 4\n",
            "MISS:  [7, 0]\n",
            "MISS:  [7, 0, 1]\n",
            "MISS:  [7, 0, 1, 2]\n",
            "HIT:  [7, 0, 1, 2]\n",
            "MISS:  [0, 1, 2, 3]\n",
            "HIT:  [0, 1, 2, 3]\n",
            "MISS:  [0, 2, 3, 4]\n",
            "HIT:  [0, 2, 3, 4]\n",
            "HIT:  [0, 2, 3, 4]\n",
            "HIT:  [0, 2, 3, 4]\n",
            "HIT:  [0, 2, 3, 4]\n",
            "HIT:  [0, 2, 3, 4]\n",
            "HIT:  [0, 2, 3, 4]\n",
            "total page fault:  6\n"
          ]
        }
      ]
    },
    {
      "cell_type": "code",
      "source": [],
      "metadata": {
        "id": "MlZJZQfZDRXB"
      },
      "execution_count": null,
      "outputs": []
    },
    {
      "cell_type": "markdown",
      "source": [
        "### Least Recently Used (LRU)"
      ],
      "metadata": {
        "id": "FXeDmJuD73z4"
      }
    },
    {
      "cell_type": "code",
      "source": [
        "data=list(map(int, input(\"Enter the value for queue: \").split(\", \")))  # page values\n",
        "\n",
        "n = int(input(\"Number of page frame: \"))   # page frane size\n",
        "\n",
        "x=data[0]\n",
        "page_frame=[x] # insert first requested page in page frame list\n",
        "data.pop(0)\n",
        "page_fault = 1  # initialy 0\n",
        "\n",
        "# Implement \"Last Recently used Algorithm\"\n",
        "\n",
        "for value in data:\n",
        "  if value not in page_frame:   # page not found, \"MISS\". \n",
        "    if len(page_frame)>=n:   # page frame is full. new requested value will replace a data from page frame\n",
        "      page_frame.pop(0)      # least used value is in first position of the list to remove\n",
        "      page_frame.append(value)\n",
        "      page_fault +=1\n",
        "    else:                   # page frame if not full, just insert new requested data\n",
        "      page_frame.append(value) \n",
        "      page_fault +=1\n",
        "    print(\"MISS: \",page_frame)\n",
        "  else:                        # found value\n",
        "    page_frame.remove(value)  \n",
        "    page_frame.append(value)   # recent used data will be moved to last position, least used value will be in first positon.\n",
        "    print(\"HIT: \",page_frame)\n",
        "\n",
        "print(\"total page fault: \", page_fault)"
      ],
      "metadata": {
        "colab": {
          "base_uri": "https://localhost:8080/"
        },
        "id": "yCbFI6lG7_Pv",
        "outputId": "b109a307-57f9-41e2-8f43-c59da395b524"
      },
      "execution_count": null,
      "outputs": [
        {
          "output_type": "stream",
          "name": "stdout",
          "text": [
            "Enter the value for queue: 7, 0, 1, 2, 0, 3, 0, 4, 2, 3, 0, 3, 2, 3\n",
            "Number of page frame: 4\n",
            "MISS:  [7, 0]\n",
            "MISS:  [7, 0, 1]\n",
            "MISS:  [7, 0, 1, 2]\n",
            "HIT:  [7, 1, 2, 0]\n",
            "MISS:  [1, 2, 0, 3]\n",
            "HIT:  [1, 2, 3, 0]\n",
            "MISS:  [2, 3, 0, 4]\n",
            "HIT:  [3, 0, 4, 2]\n",
            "HIT:  [0, 4, 2, 3]\n",
            "HIT:  [4, 2, 3, 0]\n",
            "HIT:  [4, 2, 0, 3]\n",
            "HIT:  [4, 0, 3, 2]\n",
            "HIT:  [4, 0, 2, 3]\n",
            "total page fault:  6\n"
          ]
        }
      ]
    },
    {
      "cell_type": "markdown",
      "source": [
        "### Most recently USED (MRU)"
      ],
      "metadata": {
        "id": "uMWeqBQh_TGL"
      }
    },
    {
      "cell_type": "code",
      "source": [
        "data=list(map(int, input(\"Enter the value for queue: \").split(\", \")))  # page values\n",
        "\n",
        "n = int(input(\"Number of page frame: \"))   # page frane size\n",
        "\n",
        "x=data[0]\n",
        "page_frame=[x] # insert first requested page in page frame list\n",
        "data.pop(0)\n",
        "page_fault = 1  # initialy 0\n",
        "\n",
        "# Implement \"Last Recently used Algorithm\"\n",
        "\n",
        "for value in data:\n",
        "  if value not in page_frame:   # page not found, \"MISS\". \n",
        "    if len(page_frame)>=n:   # page frame is full. new requested value will replace a data from page frame\n",
        "      page_frame.pop()      # remove last inserter value which is recently used\n",
        "      page_frame.append(value)\n",
        "      page_fault +=1\n",
        "    else:                   # page frame if not full, just insert new requested data\n",
        "      page_frame.append(value) \n",
        "      page_fault +=1\n",
        "    print(\"MISS: \",page_frame)\n",
        "  else:                        # found value\n",
        "    page_frame.remove(value)  \n",
        "    page_frame.append(value)   # recent used data will be moved to last position, most recently used value will be in last positon.\n",
        "    print(\"HIT: \",page_frame)\n",
        "\n",
        "print(\"total page fault: \", page_fault)"
      ],
      "metadata": {
        "colab": {
          "base_uri": "https://localhost:8080/"
        },
        "id": "l3kxjG5r9J5O",
        "outputId": "1ab7c1f4-14ca-4437-e96b-c300fe0e35f9"
      },
      "execution_count": null,
      "outputs": [
        {
          "output_type": "stream",
          "name": "stdout",
          "text": [
            "Enter the value for queue: 7, 0, 1, 2, 0, 3, 0, 4, 2, 3, 0, 3, 2, 3\n",
            "Number of page frame: 4\n",
            "MISS:  [7, 0]\n",
            "MISS:  [7, 0, 1]\n",
            "MISS:  [7, 0, 1, 2]\n",
            "HIT:  [7, 1, 2, 0]\n",
            "MISS:  [7, 1, 2, 3]\n",
            "MISS:  [7, 1, 2, 0]\n",
            "MISS:  [7, 1, 2, 4]\n",
            "HIT:  [7, 1, 4, 2]\n",
            "MISS:  [7, 1, 4, 3]\n",
            "MISS:  [7, 1, 4, 0]\n",
            "MISS:  [7, 1, 4, 3]\n",
            "MISS:  [7, 1, 4, 2]\n",
            "MISS:  [7, 1, 4, 3]\n",
            "total page fault:  12\n"
          ]
        }
      ]
    }
  ]
}